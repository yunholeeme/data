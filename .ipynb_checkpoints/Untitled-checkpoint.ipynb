{
 "cells": [
  {
   "cell_type": "code",
   "execution_count": 19,
   "metadata": {},
   "outputs": [],
   "source": [
    "import math\n",
    "import turtle\n",
    "\n",
    "# turtle을 사용해 원을 그린다\n",
    "def drawCircleTurtle(x, y, r):\n",
    "    # 원의 시작점으로 이동한다\n",
    "    turtle.up()\n",
    "    turtle.setpos(x + r, y)\n",
    "    turtle.down()\n",
    "    \n",
    "    # 원을 그린다\n",
    "    for i in range(0, 365, 1):\n",
    "        a = math.radians(i)\n",
    "        turtle.setpos(x + r*math.cos(a), y + r*math.sin(a))\n",
    "        \n",
    "drawCircleTurtle(100, 100, 100)\n",
    "turtle.mainloop()"
   ]
  },
  {
   "cell_type": "code",
   "execution_count": null,
   "metadata": {},
   "outputs": [],
   "source": []
  },
  {
   "cell_type": "code",
   "execution_count": null,
   "metadata": {},
   "outputs": [],
   "source": []
  }
 ],
 "metadata": {
  "kernelspec": {
   "display_name": "Python 3",
   "language": "python",
   "name": "python3"
  },
  "language_info": {
   "codemirror_mode": {
    "name": "ipython",
    "version": 3
   },
   "file_extension": ".py",
   "mimetype": "text/x-python",
   "name": "python",
   "nbconvert_exporter": "python",
   "pygments_lexer": "ipython3",
   "version": "3.7.3"
  }
 },
 "nbformat": 4,
 "nbformat_minor": 2
}
